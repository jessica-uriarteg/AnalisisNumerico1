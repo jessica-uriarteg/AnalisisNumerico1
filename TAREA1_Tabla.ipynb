{
 "cells": [
  {
   "cell_type": "code",
   "execution_count": 63,
   "metadata": {
    "collapsed": false
   },
   "outputs": [],
   "source": [
    "import pandas as pd\n",
    "import texttable as tt"
   ]
  },
  {
   "cell_type": "code",
   "execution_count": 64,
   "metadata": {
    "collapsed": false
   },
   "outputs": [],
   "source": [
    "tab = tt.Texttable()                       #<--- Definimos 'tab'.\n",
    "\n",
    "table = [[]]                               #<--- Espacio para el encabezado.\n",
    "\n",
    "for n in range(1,21):                      #<--- Creamos una lista 'n' con los números del 1-20. (Se pueden cambiar los parámetros)\n",
    "    table.append([n,n**2,n**3,n**4])       #<--- Agregamos una lista 'table' de operaciones, en este caso potencias, dentro de nuestra lista 'n'.'\n",
    "             \n",
    "tab.add_rows(table)                        #<--- Agregamos filas.\n",
    "tab.set_cols_align(['r','r','r','r'])      #<--- Alineamos las filas. \n",
    "tab.set_chars(['-','|','+','#'])           #<--- Cambiamos el diseño, agregando carácteres.\n",
    "tab.header(['x', 'x^2', 'x^3', 'x^4'])     #<--- Encabezado.\n",
    "s = tab.draw()                             "
   ]
  },
  {
   "cell_type": "code",
   "execution_count": 65,
   "metadata": {
    "collapsed": false
   },
   "outputs": [
    {
     "name": "stdout",
     "output_type": "stream",
     "text": [
      "+----+-----+------+--------+\n",
      "| x  | x^2 | x^3  |  x^4   |\n",
      "+####+#####+######+########+\n",
      "|  1 |   1 |    1 |      1 |\n",
      "+----+-----+------+--------+\n",
      "|  2 |   4 |    8 |     16 |\n",
      "+----+-----+------+--------+\n",
      "|  3 |   9 |   27 |     81 |\n",
      "+----+-----+------+--------+\n",
      "|  4 |  16 |   64 |    256 |\n",
      "+----+-----+------+--------+\n",
      "|  5 |  25 |  125 |    625 |\n",
      "+----+-----+------+--------+\n",
      "|  6 |  36 |  216 |   1296 |\n",
      "+----+-----+------+--------+\n",
      "|  7 |  49 |  343 |   2401 |\n",
      "+----+-----+------+--------+\n",
      "|  8 |  64 |  512 |   4096 |\n",
      "+----+-----+------+--------+\n",
      "|  9 |  81 |  729 |   6561 |\n",
      "+----+-----+------+--------+\n",
      "| 10 | 100 | 1000 |  10000 |\n",
      "+----+-----+------+--------+\n",
      "| 11 | 121 | 1331 |  14641 |\n",
      "+----+-----+------+--------+\n",
      "| 12 | 144 | 1728 |  20736 |\n",
      "+----+-----+------+--------+\n",
      "| 13 | 169 | 2197 |  28561 |\n",
      "+----+-----+------+--------+\n",
      "| 14 | 196 | 2744 |  38416 |\n",
      "+----+-----+------+--------+\n",
      "| 15 | 225 | 3375 |  50625 |\n",
      "+----+-----+------+--------+\n",
      "| 16 | 256 | 4096 |  65536 |\n",
      "+----+-----+------+--------+\n",
      "| 17 | 289 | 4913 |  83521 |\n",
      "+----+-----+------+--------+\n",
      "| 18 | 324 | 5832 | 104976 |\n",
      "+----+-----+------+--------+\n",
      "| 19 | 361 | 6859 | 130321 |\n",
      "+----+-----+------+--------+\n",
      "| 20 | 400 | 8000 | 160000 |\n",
      "+----+-----+------+--------+\n"
     ]
    }
   ],
   "source": [
    "print (s)"
   ]
  },
  {
   "cell_type": "code",
   "execution_count": null,
   "metadata": {
    "collapsed": true
   },
   "outputs": [],
   "source": []
  }
 ],
 "metadata": {
  "anaconda-cloud": {},
  "kernelspec": {
   "display_name": "Python [default]",
   "language": "python",
   "name": "python3"
  },
  "language_info": {
   "codemirror_mode": {
    "name": "ipython",
    "version": 3
   },
   "file_extension": ".py",
   "mimetype": "text/x-python",
   "name": "python",
   "nbconvert_exporter": "python",
   "pygments_lexer": "ipython3",
   "version": "3.5.2"
  }
 },
 "nbformat": 4,
 "nbformat_minor": 1
}
